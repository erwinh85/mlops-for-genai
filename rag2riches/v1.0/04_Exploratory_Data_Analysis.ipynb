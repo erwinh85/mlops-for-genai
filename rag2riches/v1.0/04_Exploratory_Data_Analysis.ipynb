{
  "cells": [
    {
      "cell_type": "code",
      "execution_count": null,
      "metadata": {
        "id": "bCIMTPB1WoTq"
      },
      "outputs": [],
      "source": [
        "# Copyright 2024 Google LLC\n",
        "#\n",
        "# Licensed under the Apache License, Version 2.0 (the \"License\");\n",
        "# you may not use this file except in compliance with the License.\n",
        "# You may obtain a copy of the License at\n",
        "#\n",
        "#     https://www.apache.org/licenses/LICENSE-2.0\n",
        "#\n",
        "# Unless required by applicable law or agreed to in writing, software\n",
        "# distributed under the License is distributed on an \"AS IS\" BASIS,\n",
        "# WITHOUT WARRANTIES OR CONDITIONS OF ANY KIND, either express or implied.\n",
        "# See the License for the specific language governing permissions and\n",
        "# limitations under the License."
      ]
    },
    {
      "cell_type": "markdown",
      "metadata": {
        "id": "7yVV6txOmNMn"
      },
      "source": [
        "# Exploratory Data Analysis\n",
        "\n",
        "[Change the link]\n",
        "\n",
        "<table align=\"left\">\n",
        "  <td style=\"text-align: center\">\n",
        "    <a href=\"https://colab.research.google.com/github/GoogleCloudPlatform/generative-ai/blob/main/gemini/getting-started/intro_gemini_1_5_flash.ipynb\">\n",
        "      <img src=\"https://cloud.google.com/ml-engine/images/colab-logo-32px.png\" alt=\"Google Colaboratory logo\"><br> Open in Colab\n",
        "    </a>\n",
        "  </td>\n",
        "  <td style=\"text-align: center\">\n",
        "    <a href=\"https://console.cloud.google.com/vertex-ai/colab/import/https:%2F%2Fraw.githubusercontent.com%2FGoogleCloudPlatform%2Fgenerative-ai%2Fmain%2Fgemini%2Fgetting-started%2Fintro_gemini_1_5_flash.ipynb\">\n",
        "      <img width=\"32px\" src=\"https://lh3.googleusercontent.com/JmcxdQi-qOpctIvWKgPtrzZdJJK-J3sWE1RsfjZNwshCFgE_9fULcNpuXYTilIR2hjwN\" alt=\"Google Cloud Colab Enterprise logo\"><br> Open in Colab Enterprise\n",
        "    </a>\n",
        "  </td>    \n",
        "  <td style=\"text-align: center\">\n",
        "    <a href=\"https://console.cloud.google.com/vertex-ai/workbench/deploy-notebook?download_url=https://raw.githubusercontent.com/GoogleCloudPlatform/generative-ai/main/gemini/getting-started/intro_gemini_1_5_flash.ipynb\">\n",
        "      <img src=\"https://lh3.googleusercontent.com/UiNooY4LUgW_oTvpsNhPpQzsstV5W8F7rYgxgGBD85cWJoLmrOzhVs_ksK_vgx40SHs7jCqkTkCk=e14-rj-sc0xffffff-h130-w32\" alt=\"Vertex AI logo\"><br> Open in Workbench\n",
        "    </a>\n",
        "  </td>\n",
        "  <td style=\"text-align: center\">\n",
        "    <a href=\"https://github.com/GoogleCloudPlatform/generative-ai/blob/main/gemini/getting-started/intro_gemini_1_5_flash.ipynb\">\n",
        "      <img src=\"https://cloud.google.com/ml-engine/images/github-logo-32px.png\" alt=\"GitHub logo\"><br> View on GitHub\n",
        "    </a>\n",
        "  </td>\n",
        "</table>\n"
      ]
    },
    {
      "cell_type": "markdown",
      "metadata": {
        "id": "t1DnOs6rkbOy"
      },
      "source": [
        "## Overview\n",
        "\n",
        "[add overview]"
      ]
    },
    {
      "cell_type": "markdown",
      "source": [
        "[add what you learned in previous notebook and link] - skip if its first\n",
        "\n",
        "\n",
        "[Context of this notebook compared to overall idea]"
      ],
      "metadata": {
        "id": "lnsiJIGW-E9p"
      }
    },
    {
      "cell_type": "markdown",
      "metadata": {
        "id": "61RBz8LLbxCR"
      },
      "source": [
        "## Getting Started"
      ]
    },
    {
      "cell_type": "markdown",
      "metadata": {
        "id": "No17Cw5hgx12"
      },
      "source": [
        "### Install Dependencies\n"
      ]
    },
    {
      "cell_type": "code",
      "execution_count": 1,
      "metadata": {
        "id": "tFy3H3aPgx12",
        "colab": {
          "base_uri": "https://localhost:8080/"
        },
        "outputId": "0565c0ba-0eb9-48d0-c56a-891f3508092e"
      },
      "outputs": [
        {
          "output_type": "stream",
          "name": "stdout",
          "text": [
            "\u001b[2K   \u001b[90m━━━━━━━━━━━━━━━━━━━━━━━━━━━━━━━━━━━━━━━━\u001b[0m \u001b[32m5.1/5.1 MB\u001b[0m \u001b[31m23.0 MB/s\u001b[0m eta \u001b[36m0:00:00\u001b[0m\n",
            "\u001b[?25h\u001b[33m  WARNING: The script tb-gcp-uploader is installed in '/root/.local/bin' which is not on PATH.\n",
            "  Consider adding this directory to PATH or, if you prefer to suppress this warning, use --no-warn-script-location.\u001b[0m\u001b[33m\n",
            "\u001b[0m"
          ]
        }
      ],
      "source": [
        "! pip3 install --upgrade --user --quiet google-cloud-aiplatform\n",
        "! pip3 install --user --quiet pydub"
      ]
    },
    {
      "cell_type": "markdown",
      "metadata": {
        "id": "R5Xep4W9lq-Z"
      },
      "source": [
        "### Restart runtime\n",
        "\n",
        "To use the newly installed packages in this Jupyter runtime, you must restart the runtime. You can do this by running the cell below, which restarts the current kernel."
      ]
    },
    {
      "cell_type": "code",
      "execution_count": null,
      "metadata": {
        "id": "XRvKdaPDTznN"
      },
      "outputs": [],
      "source": [
        "import sys\n",
        "\n",
        "if \"google.colab\" in sys.modules:\n",
        "    import IPython\n",
        "\n",
        "    app = IPython.Application.instance()\n",
        "    app.kernel.do_shutdown(True)"
      ]
    },
    {
      "cell_type": "markdown",
      "metadata": {
        "id": "SbmM4z7FOBpM"
      },
      "source": [
        "<div class=\"alert alert-block alert-warning\">\n",
        "<b>⚠️ The kernel is going to restart. Please wait until it is finished before continuing to the next step. ⚠️</b>\n",
        "</div>\n"
      ]
    },
    {
      "cell_type": "markdown",
      "metadata": {
        "id": "dmWOrTJ3gx13"
      },
      "source": [
        "### Authenticate your notebook environment (Colab only)\n",
        "\n",
        "If you are running this notebook on Google Colab, run the cell below to authenticate your environment.\n"
      ]
    },
    {
      "cell_type": "code",
      "execution_count": null,
      "metadata": {
        "id": "NyKGtVQjgx13"
      },
      "outputs": [],
      "source": [
        "import sys\n",
        "\n",
        "if \"google.colab\" in sys.modules:\n",
        "    from google.colab import auth\n",
        "\n",
        "    auth.authenticate_user()"
      ]
    },
    {
      "cell_type": "markdown",
      "metadata": {
        "id": "DF4l8DTdWgPY"
      },
      "source": [
        "### Set Google Cloud project information and initialize Vertex AI SDK\n",
        "\n",
        "To get started using Vertex AI, you must have an existing Google Cloud project and [enable the Vertex AI API](https://console.cloud.google.com/flows/enableapi?apiid=aiplatform.googleapis.com).\n",
        "\n",
        "Learn more about [setting up a project and a development environment](https://cloud.google.com/vertex-ai/docs/start/cloud-environment)."
      ]
    },
    {
      "cell_type": "code",
      "execution_count": null,
      "metadata": {
        "id": "Nqwi-5ufWp_B"
      },
      "outputs": [],
      "source": [
        "# Define project information\n",
        "PROJECT_ID = \"mlops-for-genai\"  # @param {type:\"string\"}\n",
        "LOCATION = \"us-central1\"  # @param {type:\"string\"}\n",
        "BUCKET_NAME = \"mlops-for-genai\" # @param {type:\"string\"}\n",
        "# Initialize Vertex AI\n",
        "import vertexai\n",
        "\n",
        "vertexai.init(project=PROJECT_ID, location=LOCATION)\n",
        "\n",
        "# Initialize cloud storage\n",
        "from google.cloud import storage\n",
        "\n",
        "storage_client = storage.Client(project=PROJECT_ID)\n",
        "bucket = storage_client.bucket(BUCKET_NAME)"
      ]
    },
    {
      "cell_type": "markdown",
      "metadata": {
        "id": "jXHfaVS66_01"
      },
      "source": [
        "### Import libraries\n"
      ]
    },
    {
      "cell_type": "code",
      "execution_count": null,
      "metadata": {
        "id": "lslYAvw37JGQ"
      },
      "outputs": [],
      "source": [
        "import IPython.display\n",
        "from IPython.core.interactiveshell import InteractiveShell\n",
        "\n",
        "InteractiveShell.ast_node_interactivity = \"all\"\n",
        "\n",
        "from vertexai.generative_models import (\n",
        "    GenerationConfig,\n",
        "    GenerativeModel,\n",
        "    HarmBlockThreshold,\n",
        "    HarmCategory,\n",
        "    Part,\n",
        ")\n",
        "\n",
        "from google.cloud import storage\n",
        "import io\n",
        "from pydub import AudioSegment\n",
        "import pandas as pd\n",
        "from typing import List, Dict, Optional\n",
        "import json\n",
        "from google.cloud import storage"
      ]
    },
    {
      "cell_type": "markdown",
      "metadata": {
        "id": "BY1nfXrqRxVX"
      },
      "source": [
        "### Load the models\n",
        "\n",
        "To learn more about all [Gemini API models on Vertex AI](https://cloud.google.com/vertex-ai/generative-ai/docs/learn/models#gemini-models).\n"
      ]
    },
    {
      "cell_type": "code",
      "execution_count": null,
      "metadata": {
        "id": "U7ExWmuLBdIA"
      },
      "outputs": [],
      "source": [
        "MODEL_ID_PRO = \"gemini-1.5-pro-001\"  # @param {type:\"string\"}\n",
        "MODEL_ID_FLASH = \"gemini-1.5-flash-001\" # @param {type:\"string\"}\n",
        "\n",
        "model_pro = GenerativeModel(MODEL_ID_PRO)\n",
        "model_flash = GenerativeModel(MODEL_ID_FLASH)"
      ]
    },
    {
      "cell_type": "markdown",
      "source": [
        "### Add data path"
      ],
      "metadata": {
        "id": "IvRRxwfIMFes"
      }
    },
    {
      "cell_type": "code",
      "source": [
        "prototype_data = \"multimodal-finanace-qa/data/unstructured/prototype/\"  # @param {type:\"string\"}\n",
        "production_data = \"multimodal-finanace-qa/data/unstructured/production/\"  # @param {type:\"string\"}"
      ],
      "metadata": {
        "id": "r5YSediHCNmB"
      },
      "execution_count": null,
      "outputs": []
    },
    {
      "cell_type": "code",
      "source": [
        "#@title Gemini API Function\n",
        "\n",
        "def get_gemini_response(\n",
        "    model,\n",
        "    generation_config: Optional[GenerationConfig] = None,\n",
        "    safety_settings: Optional[Dict[HarmCategory, HarmBlockThreshold]] = None,\n",
        "    uri_path: Optional[str] = None,\n",
        "    mime_type: Optional[str] = None,\n",
        "    prompt: Optional[str] = None\n",
        ") -> str:\n",
        "    \"\"\"\n",
        "    Generates a response using the Gemini AI model, optionally incorporating\n",
        "    external file content and applying safety settings.\n",
        "\n",
        "    Args:\n",
        "        model: The Gemini AI model instance.\n",
        "        generation_config: Configuration for text generation (e.g., temperature, token limit).\n",
        "        safety_settings: Settings to determine blocking thresholds for harmful content categories.\n",
        "        uri_path: The URI of an external file to include in the generation.\n",
        "        mime_type: The MIME type of the external file (e.g., \"text/plain\", \"image/jpeg\").\n",
        "        prompt: An optional text prompt to guide the generation.\n",
        "\n",
        "    Returns:\n",
        "        The generated text response from the Gemini model.\n",
        "    \"\"\"\n",
        "\n",
        "    if not generation_config:\n",
        "        generation_config = GenerationConfig(\n",
        "            max_output_tokens=8192,\n",
        "            temperature=1,\n",
        "            top_p=0.95,\n",
        "        )\n",
        "\n",
        "    if not safety_settings:\n",
        "        safety_settings = {\n",
        "            HarmCategory.HARM_CATEGORY_HATE_SPEECH: HarmBlockThreshold.BLOCK_ONLY_HIGH,\n",
        "            HarmCategory.HARM_CATEGORY_DANGEROUS_CONTENT: HarmBlockThreshold.BLOCK_ONLY_HIGH,\n",
        "            HarmCategory.HARM_CATEGORY_SEXUALLY_EXPLICIT: HarmBlockThreshold.BLOCK_ONLY_HIGH,\n",
        "            HarmCategory.HARM_CATEGORY_HARASSMENT: HarmBlockThreshold.BLOCK_ONLY_HIGH,\n",
        "        }\n",
        "\n",
        "    file = Part.from_uri(mime_type=mime_type, uri=uri_path)\n",
        "\n",
        "    responses: List[GenerateContentResponse] = model.generate_content(\n",
        "        [file, prompt],\n",
        "        generation_config=generation_config,\n",
        "        safety_settings=safety_settings,\n",
        "        stream=True,\n",
        "    )\n",
        "    final_response: List[str] = []\n",
        "\n",
        "    for response in responses:\n",
        "        try:\n",
        "            final_response.append(response.text)\n",
        "        except ValueError:\n",
        "            # Handle blocked content\n",
        "            final_response.append(\"blocked\")\n",
        "\n",
        "    return \"\".join(final_response)"
      ],
      "metadata": {
        "cellView": "form",
        "id": "N312cvOQgGs4"
      },
      "execution_count": null,
      "outputs": []
    },
    {
      "cell_type": "markdown",
      "metadata": {
        "id": "acRxKRA-sr0j"
      },
      "source": [
        "## Exploring Prototype Data\n",
        "\n",
        "\n"
      ]
    },
    {
      "cell_type": "markdown",
      "source": [
        "### Overall files"
      ],
      "metadata": {
        "id": "3WIkhdaULc5W"
      }
    },
    {
      "cell_type": "code",
      "source": [
        "for blob in bucket.list_blobs():\n",
        "  if blob.name.startswith(prototype_data):\n",
        "    print(blob.name)"
      ],
      "metadata": {
        "id": "BdR5SGzOcsJm",
        "colab": {
          "base_uri": "https://localhost:8080/"
        },
        "outputId": "f39b93c0-9271-4f45-a482-3e3be05f4d55"
      },
      "execution_count": null,
      "outputs": [
        {
          "output_type": "stream",
          "name": "stdout",
          "text": [
            "multimodal-finanace-qa/data/unstructured/prototype/alphabet_2023_q4_earnings_call.mp3\n",
            "multimodal-finanace-qa/data/unstructured/prototype/goog-10-q-q2-2023-4-1-15.pdf\n",
            "multimodal-finanace-qa/data/unstructured/prototype/google_cloud_tpu_blog_training.pdf\n",
            "multimodal-finanace-qa/data/unstructured/prototype/google_gemini_intro_video.mp4\n",
            "multimodal-finanace-qa/data/unstructured/prototype/google_responsible_ai.mp4\n",
            "multimodal-finanace-qa/data/unstructured/prototype/google_search_next_phase_with_ai.mp4\n"
          ]
        }
      ]
    },
    {
      "cell_type": "markdown",
      "source": [
        "### Audio files"
      ],
      "metadata": {
        "id": "-kqMU_9rLgoH"
      }
    },
    {
      "cell_type": "code",
      "source": [
        "#@title Audio Feature Extraction Helper Functions\n",
        "\n",
        "audio_sentiment_analysis_prompt = f\"\"\"Analyze the sentiment of the following audio.\n",
        "Extract the following:\n",
        "1) Provide the overall sentiment as positive, negative, or neutral.\n",
        "2) Extract the top 5 phrases that most strongly contribute to the overall sentiment.\n",
        "3) Extract the top 10 most relevant keywords.\n",
        "4) Identify the different speakers present.\n",
        "5) Summarize the audio in 3-5 concise sentences. Focus on the main points, key findings, and overall takeaways.\n",
        "\n",
        "Expected Output Format:\n",
        "      {{\n",
        "  \"overall_sentiment\": \"positive/negative/neutral\",\n",
        "  \"contributing_phrases\": [\n",
        "    \"phrase 1\",\n",
        "    \"phrase 2\",\n",
        "    \"phrase 3\",\n",
        "    \"phrase 4\",\n",
        "    \"phrase 5\"\n",
        "  ],\n",
        "  \"keywords\": [\n",
        "    \"keyword 1\",\n",
        "    \"keyword 2\",\n",
        "    ...,\n",
        "    \"keyword 10\"\n",
        "  ],\n",
        "  \"speakers\": [\n",
        "    \"speaker 1\",\n",
        "    \"speaker 2\",\n",
        "    ...,\n",
        "    \"speaker 5\"\n",
        "  ],\n",
        "  \"summary\": \"summary of the audio\"\n",
        "}}\n",
        "\"\"\"\n",
        "\n",
        "def get_blob_uri(bucket_name: str, blob_name: str) -> str:\n",
        "    \"\"\"Gets the full URI of the blob in Google Cloud Storage.\n",
        "\n",
        "    Args:\n",
        "        bucket_name: The name of the GCS bucket.\n",
        "        blob_name: The name of the blob within the bucket.\n",
        "\n",
        "    Returns:\n",
        "        The full GCS URI (gs://...) of the blob.\n",
        "    \"\"\"\n",
        "    return f\"gs://{bucket_name}/{blob_name}\"\n",
        "\n",
        "\n",
        "def analyze_audio(audio_bytes: io.BytesIO) -> Dict:\n",
        "    \"\"\"Analyzes audio data using PyDub and extracts metadata.\n",
        "\n",
        "    Args:\n",
        "        audio_bytes: An in-memory bytes buffer containing the audio data.\n",
        "\n",
        "    Returns:\n",
        "        A dictionary containing audio metadata (duration, size, sampling rate, channels).\n",
        "    \"\"\"\n",
        "    try:\n",
        "        audio = AudioSegment.from_file(audio_bytes, format=\"mp3\")\n",
        "    except AudioSegment.CouldntDecodeError as e:\n",
        "        raise ValueError(\"Could not decode audio file (ensure it's MP3 format).\") from e\n",
        "\n",
        "    return {\n",
        "        \"duration_in_min\": audio.duration_seconds / 60,\n",
        "        \"size_in_mb\": len(audio_bytes.getvalue()) / (1024 * 1024),\n",
        "        \"sampling_rate_in_hz\": audio.frame_rate,\n",
        "        \"channels\": audio.channels,\n",
        "    }\n",
        "\n",
        "\n",
        "def analyze_audio_in_gcs(\n",
        "    bucket: storage.Bucket, prototype_data: str, audio_analysis_prompt: str\n",
        ") -> pd.DataFrame:\n",
        "    \"\"\"Analyzes MP3 audio files from a Google Cloud Storage bucket that match a prototype.\n",
        "\n",
        "    Args:\n",
        "        bucket: A GCS Bucket object.\n",
        "        prototype_data: The prefix to filter blobs in the bucket.\n",
        "        audio_analysis_prompt: The prompt to use for Gemini audio analysis.\n",
        "\n",
        "    Returns:\n",
        "        A Pandas DataFrame containing analysis results for each matching audio file.\n",
        "    \"\"\"\n",
        "\n",
        "    audio_metadata = []\n",
        "\n",
        "    for blob in bucket.list_blobs():\n",
        "        if blob.name.startswith(prototype_data) and blob.name.endswith(\".mp3\"):\n",
        "            audio_bytes = io.BytesIO()\n",
        "            blob.download_to_file(audio_bytes)\n",
        "            audio_bytes.seek(0)\n",
        "\n",
        "            metadata = analyze_audio(audio_bytes)\n",
        "            audio_analysis = get_gemini_response(\n",
        "                        model=model_flash,  # Replace with your actual model\n",
        "                        uri_path=get_blob_uri(bucket.name, blob.name),\n",
        "                        mime_type=\"audio/mp3\",\n",
        "                        prompt=audio_analysis_prompt,\n",
        "                    )\n",
        "            json_string = audio_analysis[8:-3]\n",
        "            audio_analysis_data = json.loads(json_string)\n",
        "\n",
        "            metadata.update(\n",
        "                {\n",
        "                    \"blob_name\": blob.name.split(\"/\")[-1],\n",
        "                    \"blob_path\": get_blob_uri(bucket.name, blob.name),\n",
        "                    \"overall_sentiment\": audio_analysis_data[\"overall_sentiment\"],\n",
        "                    \"contributing_phrases\": audio_analysis_data[\"contributing_phrases\"],\n",
        "                    \"keywords\": audio_analysis_data[\"keywords\"],\n",
        "                    \"speakers\": audio_analysis_data[\"speakers\"],\n",
        "                    \"summary\": audio_analysis_data[\"summary\"],\n",
        "                }\n",
        "            )\n",
        "            audio_metadata.append(metadata)\n",
        "\n",
        "    return pd.DataFrame(audio_metadata), audio_analysis_data"
      ],
      "metadata": {
        "cellView": "form",
        "id": "_nqPFkCG0juZ"
      },
      "execution_count": null,
      "outputs": []
    },
    {
      "cell_type": "markdown",
      "source": [
        "important to highlight that we are leveraging Gemini Flash to extract features from audio."
      ],
      "metadata": {
        "id": "UeODQ674O8qX"
      }
    },
    {
      "cell_type": "code",
      "source": [
        "%%time\n",
        "\n",
        "analysis_df, audio_analysis_data = analyze_audio_in_gcs(bucket,\n",
        "                                                        prototype_data,\n",
        "                                                        audio_sentiment_analysis_prompt)"
      ],
      "metadata": {
        "colab": {
          "base_uri": "https://localhost:8080/"
        },
        "id": "CxH7oft80wYJ",
        "outputId": "edb29a70-ea5f-4191-9b62-590da25ff766"
      },
      "execution_count": null,
      "outputs": [
        {
          "output_type": "stream",
          "name": "stdout",
          "text": [
            "CPU times: user 3.24 s, sys: 3.63 s, total: 6.87 s\n",
            "Wall time: 47.4 s\n"
          ]
        }
      ]
    },
    {
      "cell_type": "code",
      "source": [
        "analysis_df"
      ],
      "metadata": {
        "colab": {
          "base_uri": "https://localhost:8080/",
          "height": 205
        },
        "id": "HPWe66VgLUZS",
        "outputId": "6050708c-f039-41a4-a3b7-cb7861fa4f3a"
      },
      "execution_count": null,
      "outputs": [
        {
          "output_type": "execute_result",
          "data": {
            "text/plain": [
              "   duration_in_min  size_in_mb  sampling_rate_in_hz  channels  \\\n",
              "0        56.861412   104.11844                44100         2   \n",
              "\n",
              "                            blob_name  \\\n",
              "0  alphabet_2023_q4_earnings_call.mp3   \n",
              "\n",
              "                                           blob_path overall_sentiment  \\\n",
              "0  gs://mlops-for-genai/multimodal-finanace-qa/da...          positive   \n",
              "\n",
              "                                contributing_phrases  \\\n",
              "0  [I'm happy with what we are seeing in the earl...   \n",
              "\n",
              "                                            keywords  \\\n",
              "0  [AI, search, YouTube, Google Cloud, revenue, g...   \n",
              "\n",
              "                                            speakers  \\\n",
              "0  [Operator, Jim Friedland, Sundar Pichai, Phill...   \n",
              "\n",
              "                                             summary  \n",
              "0  Alphabet's fourth-quarter 2023 earnings call d...  "
            ],
            "text/html": [
              "\n",
              "  <div id=\"df-f0f8054b-2d1d-4468-9796-87d7fa38af94\" class=\"colab-df-container\">\n",
              "    <div>\n",
              "<style scoped>\n",
              "    .dataframe tbody tr th:only-of-type {\n",
              "        vertical-align: middle;\n",
              "    }\n",
              "\n",
              "    .dataframe tbody tr th {\n",
              "        vertical-align: top;\n",
              "    }\n",
              "\n",
              "    .dataframe thead th {\n",
              "        text-align: right;\n",
              "    }\n",
              "</style>\n",
              "<table border=\"1\" class=\"dataframe\">\n",
              "  <thead>\n",
              "    <tr style=\"text-align: right;\">\n",
              "      <th></th>\n",
              "      <th>duration_in_min</th>\n",
              "      <th>size_in_mb</th>\n",
              "      <th>sampling_rate_in_hz</th>\n",
              "      <th>channels</th>\n",
              "      <th>blob_name</th>\n",
              "      <th>blob_path</th>\n",
              "      <th>overall_sentiment</th>\n",
              "      <th>contributing_phrases</th>\n",
              "      <th>keywords</th>\n",
              "      <th>speakers</th>\n",
              "      <th>summary</th>\n",
              "    </tr>\n",
              "  </thead>\n",
              "  <tbody>\n",
              "    <tr>\n",
              "      <th>0</th>\n",
              "      <td>56.861412</td>\n",
              "      <td>104.11844</td>\n",
              "      <td>44100</td>\n",
              "      <td>2</td>\n",
              "      <td>alphabet_2023_q4_earnings_call.mp3</td>\n",
              "      <td>gs://mlops-for-genai/multimodal-finanace-qa/da...</td>\n",
              "      <td>positive</td>\n",
              "      <td>[I'm happy with what we are seeing in the earl...</td>\n",
              "      <td>[AI, search, YouTube, Google Cloud, revenue, g...</td>\n",
              "      <td>[Operator, Jim Friedland, Sundar Pichai, Phill...</td>\n",
              "      <td>Alphabet's fourth-quarter 2023 earnings call d...</td>\n",
              "    </tr>\n",
              "  </tbody>\n",
              "</table>\n",
              "</div>\n",
              "    <div class=\"colab-df-buttons\">\n",
              "\n",
              "  <div class=\"colab-df-container\">\n",
              "    <button class=\"colab-df-convert\" onclick=\"convertToInteractive('df-f0f8054b-2d1d-4468-9796-87d7fa38af94')\"\n",
              "            title=\"Convert this dataframe to an interactive table.\"\n",
              "            style=\"display:none;\">\n",
              "\n",
              "  <svg xmlns=\"http://www.w3.org/2000/svg\" height=\"24px\" viewBox=\"0 -960 960 960\">\n",
              "    <path d=\"M120-120v-720h720v720H120Zm60-500h600v-160H180v160Zm220 220h160v-160H400v160Zm0 220h160v-160H400v160ZM180-400h160v-160H180v160Zm440 0h160v-160H620v160ZM180-180h160v-160H180v160Zm440 0h160v-160H620v160Z\"/>\n",
              "  </svg>\n",
              "    </button>\n",
              "\n",
              "  <style>\n",
              "    .colab-df-container {\n",
              "      display:flex;\n",
              "      gap: 12px;\n",
              "    }\n",
              "\n",
              "    .colab-df-convert {\n",
              "      background-color: #E8F0FE;\n",
              "      border: none;\n",
              "      border-radius: 50%;\n",
              "      cursor: pointer;\n",
              "      display: none;\n",
              "      fill: #1967D2;\n",
              "      height: 32px;\n",
              "      padding: 0 0 0 0;\n",
              "      width: 32px;\n",
              "    }\n",
              "\n",
              "    .colab-df-convert:hover {\n",
              "      background-color: #E2EBFA;\n",
              "      box-shadow: 0px 1px 2px rgba(60, 64, 67, 0.3), 0px 1px 3px 1px rgba(60, 64, 67, 0.15);\n",
              "      fill: #174EA6;\n",
              "    }\n",
              "\n",
              "    .colab-df-buttons div {\n",
              "      margin-bottom: 4px;\n",
              "    }\n",
              "\n",
              "    [theme=dark] .colab-df-convert {\n",
              "      background-color: #3B4455;\n",
              "      fill: #D2E3FC;\n",
              "    }\n",
              "\n",
              "    [theme=dark] .colab-df-convert:hover {\n",
              "      background-color: #434B5C;\n",
              "      box-shadow: 0px 1px 3px 1px rgba(0, 0, 0, 0.15);\n",
              "      filter: drop-shadow(0px 1px 2px rgba(0, 0, 0, 0.3));\n",
              "      fill: #FFFFFF;\n",
              "    }\n",
              "  </style>\n",
              "\n",
              "    <script>\n",
              "      const buttonEl =\n",
              "        document.querySelector('#df-f0f8054b-2d1d-4468-9796-87d7fa38af94 button.colab-df-convert');\n",
              "      buttonEl.style.display =\n",
              "        google.colab.kernel.accessAllowed ? 'block' : 'none';\n",
              "\n",
              "      async function convertToInteractive(key) {\n",
              "        const element = document.querySelector('#df-f0f8054b-2d1d-4468-9796-87d7fa38af94');\n",
              "        const dataTable =\n",
              "          await google.colab.kernel.invokeFunction('convertToInteractive',\n",
              "                                                    [key], {});\n",
              "        if (!dataTable) return;\n",
              "\n",
              "        const docLinkHtml = 'Like what you see? Visit the ' +\n",
              "          '<a target=\"_blank\" href=https://colab.research.google.com/notebooks/data_table.ipynb>data table notebook</a>'\n",
              "          + ' to learn more about interactive tables.';\n",
              "        element.innerHTML = '';\n",
              "        dataTable['output_type'] = 'display_data';\n",
              "        await google.colab.output.renderOutput(dataTable, element);\n",
              "        const docLink = document.createElement('div');\n",
              "        docLink.innerHTML = docLinkHtml;\n",
              "        element.appendChild(docLink);\n",
              "      }\n",
              "    </script>\n",
              "  </div>\n",
              "\n",
              "\n",
              "  <div id=\"id_b4d98027-41cb-44da-b5f9-be295089ff8b\">\n",
              "    <style>\n",
              "      .colab-df-generate {\n",
              "        background-color: #E8F0FE;\n",
              "        border: none;\n",
              "        border-radius: 50%;\n",
              "        cursor: pointer;\n",
              "        display: none;\n",
              "        fill: #1967D2;\n",
              "        height: 32px;\n",
              "        padding: 0 0 0 0;\n",
              "        width: 32px;\n",
              "      }\n",
              "\n",
              "      .colab-df-generate:hover {\n",
              "        background-color: #E2EBFA;\n",
              "        box-shadow: 0px 1px 2px rgba(60, 64, 67, 0.3), 0px 1px 3px 1px rgba(60, 64, 67, 0.15);\n",
              "        fill: #174EA6;\n",
              "      }\n",
              "\n",
              "      [theme=dark] .colab-df-generate {\n",
              "        background-color: #3B4455;\n",
              "        fill: #D2E3FC;\n",
              "      }\n",
              "\n",
              "      [theme=dark] .colab-df-generate:hover {\n",
              "        background-color: #434B5C;\n",
              "        box-shadow: 0px 1px 3px 1px rgba(0, 0, 0, 0.15);\n",
              "        filter: drop-shadow(0px 1px 2px rgba(0, 0, 0, 0.3));\n",
              "        fill: #FFFFFF;\n",
              "      }\n",
              "    </style>\n",
              "    <button class=\"colab-df-generate\" onclick=\"generateWithVariable('analysis_df')\"\n",
              "            title=\"Generate code using this dataframe.\"\n",
              "            style=\"display:none;\">\n",
              "\n",
              "  <svg xmlns=\"http://www.w3.org/2000/svg\" height=\"24px\"viewBox=\"0 0 24 24\"\n",
              "       width=\"24px\">\n",
              "    <path d=\"M7,19H8.4L18.45,9,17,7.55,7,17.6ZM5,21V16.75L18.45,3.32a2,2,0,0,1,2.83,0l1.4,1.43a1.91,1.91,0,0,1,.58,1.4,1.91,1.91,0,0,1-.58,1.4L9.25,21ZM18.45,9,17,7.55Zm-12,3A5.31,5.31,0,0,0,4.9,8.1,5.31,5.31,0,0,0,1,6.5,5.31,5.31,0,0,0,4.9,4.9,5.31,5.31,0,0,0,6.5,1,5.31,5.31,0,0,0,8.1,4.9,5.31,5.31,0,0,0,12,6.5,5.46,5.46,0,0,0,6.5,12Z\"/>\n",
              "  </svg>\n",
              "    </button>\n",
              "    <script>\n",
              "      (() => {\n",
              "      const buttonEl =\n",
              "        document.querySelector('#id_b4d98027-41cb-44da-b5f9-be295089ff8b button.colab-df-generate');\n",
              "      buttonEl.style.display =\n",
              "        google.colab.kernel.accessAllowed ? 'block' : 'none';\n",
              "\n",
              "      buttonEl.onclick = () => {\n",
              "        google.colab.notebook.generateWithVariable('analysis_df');\n",
              "      }\n",
              "      })();\n",
              "    </script>\n",
              "  </div>\n",
              "\n",
              "    </div>\n",
              "  </div>\n"
            ],
            "application/vnd.google.colaboratory.intrinsic+json": {
              "type": "dataframe",
              "variable_name": "analysis_df",
              "summary": "{\n  \"name\": \"analysis_df\",\n  \"rows\": 1,\n  \"fields\": [\n    {\n      \"column\": \"duration_in_min\",\n      \"properties\": {\n        \"dtype\": \"number\",\n        \"std\": null,\n        \"min\": 56.8614119425548,\n        \"max\": 56.8614119425548,\n        \"num_unique_values\": 1,\n        \"samples\": [\n          56.8614119425548\n        ],\n        \"semantic_type\": \"\",\n        \"description\": \"\"\n      }\n    },\n    {\n      \"column\": \"size_in_mb\",\n      \"properties\": {\n        \"dtype\": \"number\",\n        \"std\": null,\n        \"min\": 104.11843967437744,\n        \"max\": 104.11843967437744,\n        \"num_unique_values\": 1,\n        \"samples\": [\n          104.11843967437744\n        ],\n        \"semantic_type\": \"\",\n        \"description\": \"\"\n      }\n    },\n    {\n      \"column\": \"sampling_rate_in_hz\",\n      \"properties\": {\n        \"dtype\": \"number\",\n        \"std\": null,\n        \"min\": 44100,\n        \"max\": 44100,\n        \"num_unique_values\": 1,\n        \"samples\": [\n          44100\n        ],\n        \"semantic_type\": \"\",\n        \"description\": \"\"\n      }\n    },\n    {\n      \"column\": \"channels\",\n      \"properties\": {\n        \"dtype\": \"number\",\n        \"std\": null,\n        \"min\": 2,\n        \"max\": 2,\n        \"num_unique_values\": 1,\n        \"samples\": [\n          2\n        ],\n        \"semantic_type\": \"\",\n        \"description\": \"\"\n      }\n    },\n    {\n      \"column\": \"blob_name\",\n      \"properties\": {\n        \"dtype\": \"string\",\n        \"num_unique_values\": 1,\n        \"samples\": [\n          \"alphabet_2023_q4_earnings_call.mp3\"\n        ],\n        \"semantic_type\": \"\",\n        \"description\": \"\"\n      }\n    },\n    {\n      \"column\": \"blob_path\",\n      \"properties\": {\n        \"dtype\": \"string\",\n        \"num_unique_values\": 1,\n        \"samples\": [\n          \"gs://mlops-for-genai/multimodal-finanace-qa/data/unstructured/prototype/alphabet_2023_q4_earnings_call.mp3\"\n        ],\n        \"semantic_type\": \"\",\n        \"description\": \"\"\n      }\n    },\n    {\n      \"column\": \"overall_sentiment\",\n      \"properties\": {\n        \"dtype\": \"string\",\n        \"num_unique_values\": 1,\n        \"samples\": [\n          \"positive\"\n        ],\n        \"semantic_type\": \"\",\n        \"description\": \"\"\n      }\n    },\n    {\n      \"column\": \"contributing_phrases\",\n      \"properties\": {\n        \"dtype\": \"object\",\n        \"semantic_type\": \"\",\n        \"description\": \"\"\n      }\n    },\n    {\n      \"column\": \"keywords\",\n      \"properties\": {\n        \"dtype\": \"object\",\n        \"semantic_type\": \"\",\n        \"description\": \"\"\n      }\n    },\n    {\n      \"column\": \"speakers\",\n      \"properties\": {\n        \"dtype\": \"object\",\n        \"semantic_type\": \"\",\n        \"description\": \"\"\n      }\n    },\n    {\n      \"column\": \"summary\",\n      \"properties\": {\n        \"dtype\": \"string\",\n        \"num_unique_values\": 1,\n        \"samples\": [\n          \"Alphabet's fourth-quarter 2023 earnings call discussed their strong momentum and product innovation, particularly in AI, which is helping to drive growth in search, subscriptions, and cloud. They highlighted the new Gemini AI model and its impact on various products and services. They also discussed their continued investments in technical infrastructure and their commitment to re-engineering their cost base. They are excited about the continued growth opportunities in 2024.\"\n        ],\n        \"semantic_type\": \"\",\n        \"description\": \"\"\n      }\n    }\n  ]\n}"
            }
          },
          "metadata": {},
          "execution_count": 47
        }
      ]
    },
    {
      "cell_type": "code",
      "source": [
        "index = 0\n",
        "print(\"Total time of audio (in minute): \", analysis_df['duration_in_min'][index])\n",
        "print(\"Size of audio (in MB):\", analysis_df['size_in_mb'][index])\n",
        "print(\"Sampling rate of audio (in Hertz): \", analysis_df['sampling_rate_in_hz'][index])\n",
        "print(\"Channels of audio: \", analysis_df['channels'][index])"
      ],
      "metadata": {
        "colab": {
          "base_uri": "https://localhost:8080/"
        },
        "id": "QFrUmoFMKAyQ",
        "outputId": "47332424-2d3b-4db6-d7d6-e72eabddce20"
      },
      "execution_count": null,
      "outputs": [
        {
          "output_type": "stream",
          "name": "stdout",
          "text": [
            "Total time of audio (in minute):  56.8614119425548\n",
            "Size of audio (in MB): 104.11843967437744\n",
            "Sampling rate of audio (in Hertz):  44100\n",
            "Channels of audio:  2\n"
          ]
        }
      ]
    },
    {
      "cell_type": "code",
      "source": [
        "print(\"Overall sentiment of audio:\", analysis_df['overall_sentiment'][index])\n",
        "print(\"\\nContributing phrases of audio:\")\n",
        "analysis_df['contributing_phrases'][index]\n",
        "print(\"\\nKeywords of audio:\")\n",
        "analysis_df['keywords'][index]\n",
        "print(\"\\nSpeakers of audio:\")\n",
        "analysis_df['speakers'][index]\n",
        "print(\"\\nSummary of audio:\")\n",
        "analysis_df['summary'][index]"
      ],
      "metadata": {
        "colab": {
          "base_uri": "https://localhost:8080/",
          "height": 695
        },
        "id": "_3Hjx4k-8qxW",
        "outputId": "c8bf30d9-623c-495f-fee2-264ad798185b"
      },
      "execution_count": null,
      "outputs": [
        {
          "output_type": "stream",
          "name": "stdout",
          "text": [
            "Overall sentiment of audio: positive\n",
            "\n",
            "Contributing phrases of audio:\n"
          ]
        },
        {
          "output_type": "execute_result",
          "data": {
            "text/plain": [
              "[\"I'm happy with what we are seeing in the earliest days of SGE\",\n",
              " \"I'm excited for what's ahead in 2024\",\n",
              " \"We're very pleased with the momentum of GCP with an increasing contribution from AI\",\n",
              " \"We're very pleased with our full-year results with 2023 Alphabet revenues of 370 billion up 9% versus 2022\",\n",
              " \"We're also pleased with our first season of NFL Sunday Ticket\"]"
            ]
          },
          "metadata": {},
          "execution_count": 56
        },
        {
          "output_type": "stream",
          "name": "stdout",
          "text": [
            "\n",
            "Keywords of audio:\n"
          ]
        },
        {
          "output_type": "execute_result",
          "data": {
            "text/plain": [
              "['AI',\n",
              " 'search',\n",
              " 'YouTube',\n",
              " 'Google Cloud',\n",
              " 'revenue',\n",
              " 'growth',\n",
              " 'subscription',\n",
              " 'advertising',\n",
              " 'products',\n",
              " 'investments']"
            ]
          },
          "metadata": {},
          "execution_count": 56
        },
        {
          "output_type": "stream",
          "name": "stdout",
          "text": [
            "\n",
            "Speakers of audio:\n"
          ]
        },
        {
          "output_type": "execute_result",
          "data": {
            "text/plain": [
              "['Operator',\n",
              " 'Jim Friedland',\n",
              " 'Sundar Pichai',\n",
              " 'Phillip Schindler',\n",
              " 'Ruth Porat',\n",
              " 'Brian Nowak',\n",
              " 'Doug Ammouth',\n",
              " 'Eric Sheridan',\n",
              " 'Justin Post',\n",
              " 'Mark Mahaney']"
            ]
          },
          "metadata": {},
          "execution_count": 56
        },
        {
          "output_type": "stream",
          "name": "stdout",
          "text": [
            "\n",
            "Summary of audio:\n"
          ]
        },
        {
          "output_type": "execute_result",
          "data": {
            "text/plain": [
              "\"Alphabet's fourth-quarter 2023 earnings call discussed their strong momentum and product innovation, particularly in AI, which is helping to drive growth in search, subscriptions, and cloud. They highlighted the new Gemini AI model and its impact on various products and services. They also discussed their continued investments in technical infrastructure and their commitment to re-engineering their cost base. They are excited about the continued growth opportunities in 2024.\""
            ],
            "application/vnd.google.colaboratory.intrinsic+json": {
              "type": "string"
            }
          },
          "metadata": {},
          "execution_count": 56
        }
      ]
    },
    {
      "cell_type": "code",
      "source": [
        "import wordcloud\n",
        "from wordcloud import WordCloud, STOPWORDS\n",
        "import matplotlib.pyplot as plt\n",
        "from collections import Counter\n",
        "\n",
        "\n",
        "list1 = analysis_df['keywords'][index]\n",
        "list2 = analysis_df['speakers'][index]\n",
        "long_text  =  analysis_df['summary'][index]\n",
        "# Combine lists into a single text string\n",
        "all_words = ' '.join(list1 +list2) + long_text\n",
        "\n",
        "# Preprocessing long text\n",
        "# 1. Tokenization (splitting into words)\n",
        "words = long_text.lower().split()\n",
        "\n",
        "# 2. Stopword removal (remove common, less meaningful words)\n",
        "stopwords = set(STOPWORDS)\n",
        "stopwords.update([\"will\", \"is\", \"are\"]) # Add more stopwords relevant to your text\n",
        "words = [word for word in words if word not in stopwords]\n",
        "\n",
        "# 3. Count word frequencies\n",
        "word_counts = Counter(words)\n",
        "\n",
        "# Generate WordCloud, giving higher weights to more frequent words from long text\n",
        "wordcloud = WordCloud(\n",
        "    width=800,\n",
        "    height=400,\n",
        "    background_color=\"white\",\n",
        "    stopwords=stopwords,\n",
        "    min_font_size=10\n",
        ").generate_from_frequencies(word_counts)\n",
        "\n",
        "# Display the generated image\n",
        "plt.figure(figsize=(8, 8), facecolor=None)\n",
        "plt.imshow(wordcloud)\n",
        "plt.axis(\"off\")\n",
        "plt.tight_layout(pad=0)\n",
        "plt.show()"
      ],
      "metadata": {
        "colab": {
          "base_uri": "https://localhost:8080/",
          "height": 488
        },
        "id": "tqIvec_fTRTT",
        "outputId": "5b94bf91-69b0-4fc4-cc3c-ae69e2e03384"
      },
      "execution_count": null,
      "outputs": [
        {
          "output_type": "execute_result",
          "data": {
            "text/plain": [
              "<Figure size 800x800 with 0 Axes>"
            ]
          },
          "metadata": {},
          "execution_count": 61
        },
        {
          "output_type": "execute_result",
          "data": {
            "text/plain": [
              "<matplotlib.image.AxesImage at 0x7a8177367190>"
            ]
          },
          "metadata": {},
          "execution_count": 61
        },
        {
          "output_type": "execute_result",
          "data": {
            "text/plain": [
              "(-0.5, 799.5, 399.5, -0.5)"
            ]
          },
          "metadata": {},
          "execution_count": 61
        },
        {
          "output_type": "display_data",
          "data": {
            "text/plain": [
              "<Figure size 800x800 with 1 Axes>"
            ],
            "image/png": "[encoded data removed]"
          },
          "metadata": {}
        }
      ]
    },
    {
      "cell_type": "markdown",
      "metadata": {
        "id": "b3iovYxOwOT7"
      },
      "source": [
        "## Conclusion\n",
        "\n",
        "[add conclusions & Next Steps]"
      ]
    }
  ],
  "metadata": {
    "colab": {
      "toc_visible": true,
      "provenance": []
    },
    "kernelspec": {
      "display_name": "Python 3",
      "name": "python3"
    }
  },
  "nbformat": 4,
  "nbformat_minor": 0
}